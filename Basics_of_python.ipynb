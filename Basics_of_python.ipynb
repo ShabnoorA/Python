{
  "cells": [
    {
      "cell_type": "markdown",
      "metadata": {
        "id": "Ca3wRGAfX13Z"
      },
      "source": [
        "# <center><u>Python basics</u></center>"
      ]
    },
    {
      "cell_type": "markdown",
      "metadata": {
        "id": "uiaI0eLbX6E8"
      },
      "source": [
        "Python is emerging as the popular language used more in data science applications.\n",
        "\n",
        "\n",
        "`Python is an interpreted, object-oriented, high-level programming language. Python’s simple, easy to learn syntax emphasizes readability and therefore reduces the cost of program maintenance.`\n",
        "\n",
        "\n",
        "Take the case of the tech giant Google that has created the deep learning framework called tensorflow – Python is the primary language used for creating this framework. Its footprint has continued to increase in the environment promoted by Netflix. Production engineers at Facebook and Khan Academy have for long been using it as a prominent language in their environment.\n",
        "\n",
        "Python became the most popular language in the data science world.\n",
        "So what are you waiting for? Lets start learning python basic as your first assignment.\n",
        "\n",
        "### Now Lets get started.\n"
      ]
    },
    {
      "cell_type": "markdown",
      "metadata": {
        "id": "EE-kV4_NkIjM"
      },
      "source": [
        "### 1. Print Function"
      ]
    },
    {
      "cell_type": "code",
      "execution_count": null,
      "metadata": {
        "id": "4Xs5wo9okIjM",
        "outputId": "44e1c56d-6635-416b-d369-93b992c4620b",
        "colab": {
          "base_uri": "https://localhost:8080/"
        }
      },
      "outputs": [
        {
          "output_type": "stream",
          "name": "stdout",
          "text": [
            "Hello World!!\n"
          ]
        }
      ],
      "source": [
        "# Lets print one sentence(\"Hello World\") using python\n",
        "\n",
        "\n",
        "print(\"Hello World!!\")"
      ]
    },
    {
      "cell_type": "markdown",
      "metadata": {
        "id": "Vbq67IZfkIjU"
      },
      "source": [
        "#### Handling comments"
      ]
    },
    {
      "cell_type": "markdown",
      "metadata": {
        "id": "lsBLXz9CkIjU"
      },
      "source": [
        "- single line"
      ]
    },
    {
      "cell_type": "code",
      "execution_count": null,
      "metadata": {
        "id": "asuCmD4dkIjU",
        "outputId": "c9eb7858-6c0b-4adf-a609-821e204487b8",
        "colab": {
          "base_uri": "https://localhost:8080/"
        }
      },
      "outputs": [
        {
          "output_type": "stream",
          "name": "stdout",
          "text": [
            "<class 'int'>\n"
          ]
        }
      ],
      "source": [
        "# This is comment.\n",
        "i=5\n",
        "\n",
        "print(type(i))"
      ]
    },
    {
      "cell_type": "markdown",
      "metadata": {
        "id": "YZwk5nf1kIjU"
      },
      "source": [
        "- Multi line"
      ]
    },
    {
      "cell_type": "code",
      "execution_count": null,
      "metadata": {
        "id": "o4QSopeQkIjV",
        "outputId": "031fab13-f10a-4645-e0b8-6142e1aa685a",
        "colab": {
          "base_uri": "https://localhost:8080/"
        }
      },
      "outputs": [
        {
          "output_type": "stream",
          "name": "stdout",
          "text": [
            "<class 'int'>\n"
          ]
        }
      ],
      "source": [
        "'''This is multiline\n",
        "comments.\n",
        "lets print\n",
        "same'''\n",
        "i=10\n",
        "\n",
        "print(type(i))"
      ]
    },
    {
      "cell_type": "markdown",
      "metadata": {
        "id": "BcN7qxxYkIjO"
      },
      "source": [
        "- There is also different way for printing sentence with variables . We will see going forward. Lets see how we can declare and handle variable."
      ]
    },
    {
      "cell_type": "markdown",
      "metadata": {
        "id": "dDYW12H-kIjO"
      },
      "source": [
        "### 2.Variable declaration"
      ]
    },
    {
      "cell_type": "markdown",
      "metadata": {
        "id": "lSRAZXLOkIjP"
      },
      "source": [
        "#### Python support different data types like `int`, `float`, `string` and `boolean`."
      ]
    },
    {
      "cell_type": "code",
      "execution_count": null,
      "metadata": {
        "id": "ML56MRF47UOl"
      },
      "outputs": [],
      "source": [
        "# lets declare variables int , float and string\n",
        "\n",
        "#int, # your code below\n",
        "a=5\n",
        "\n",
        "#string\n",
        "b='shabnoor'\n",
        "\n",
        "#float\n",
        "c=7.6"
      ]
    },
    {
      "cell_type": "markdown",
      "metadata": {
        "id": "A4VuNjM_kIjQ"
      },
      "source": [
        "Lets print type of a , b and c"
      ]
    },
    {
      "cell_type": "code",
      "execution_count": null,
      "metadata": {
        "id": "szu_jKM97UOm",
        "outputId": "3e50b3e3-db20-408f-9da3-2ea1b73179dc",
        "colab": {
          "base_uri": "https://localhost:8080/"
        }
      },
      "outputs": [
        {
          "output_type": "stream",
          "name": "stdout",
          "text": [
            "5\n",
            "shabnoor\n",
            "7.6\n",
            "5 shabnoor 7.6\n"
          ]
        }
      ],
      "source": [
        "# print type of a\n",
        "print (a)\n",
        "print(b)\n",
        "print(c)\n",
        "print(a,b,c)\n",
        "\n",
        "\n"
      ]
    },
    {
      "cell_type": "code",
      "execution_count": null,
      "metadata": {
        "id": "OVsj_puw7UOn",
        "outputId": "356fe5e2-c1bc-4dc0-c7a8-75619e15ffe0",
        "colab": {
          "base_uri": "https://localhost:8080/"
        }
      },
      "outputs": [
        {
          "output_type": "stream",
          "name": "stdout",
          "text": [
            "<class 'str'>\n"
          ]
        }
      ],
      "source": [
        "# print type of b\n",
        "print(type(b))\n",
        "\n",
        "\n"
      ]
    },
    {
      "cell_type": "code",
      "execution_count": null,
      "metadata": {
        "id": "_q6iUt6ckIjR",
        "outputId": "328c816d-8a81-4279-acfd-8d77ca1ad693",
        "colab": {
          "base_uri": "https://localhost:8080/"
        }
      },
      "outputs": [
        {
          "output_type": "stream",
          "name": "stdout",
          "text": [
            "<class 'float'>\n"
          ]
        }
      ],
      "source": [
        "# print type of c\n",
        "print(type(c))\n",
        "\n",
        "\n",
        "\n"
      ]
    },
    {
      "cell_type": "markdown",
      "metadata": {
        "id": "Qy8xga_UkIjR"
      },
      "source": [
        "Lets try with a complete sentence"
      ]
    },
    {
      "cell_type": "code",
      "execution_count": null,
      "metadata": {
        "id": "V0LSflEskIjR",
        "outputId": "6b7d49b2-ad88-4e81-b8de-bd294944dc33",
        "colab": {
          "base_uri": "https://localhost:8080/"
        }
      },
      "outputs": [
        {
          "output_type": "stream",
          "name": "stdout",
          "text": [
            "<class 'str'>\n"
          ]
        }
      ],
      "source": [
        "# define a string with sentence  'This is so beautiful'\n",
        "d='This is so beautiful'\n",
        "\n",
        "\n",
        "# print its type\n",
        "print(type(d))\n"
      ]
    },
    {
      "cell_type": "markdown",
      "metadata": {
        "id": "JXsuRUDqkIjR"
      },
      "source": [
        "Lets try to declare boolean variable"
      ]
    },
    {
      "cell_type": "code",
      "execution_count": null,
      "metadata": {
        "id": "hg2XC1YFkIjS"
      },
      "outputs": [],
      "source": [
        "# declare d with True\n",
        "\n",
        "E=False\n",
        "F=True"
      ]
    },
    {
      "cell_type": "code",
      "execution_count": null,
      "metadata": {
        "id": "EaX99YOmkIjS",
        "outputId": "e504b16a-abee-48c8-b8da-7743df5d0ef2",
        "colab": {
          "base_uri": "https://localhost:8080/"
        }
      },
      "outputs": [
        {
          "output_type": "stream",
          "name": "stdout",
          "text": [
            "<class 'bool'>\n",
            "<class 'bool'>\n"
          ]
        }
      ],
      "source": [
        "# print type of E\n",
        "\n",
        "print(type(E))\n",
        "print(type(F))\n"
      ]
    },
    {
      "cell_type": "markdown",
      "metadata": {
        "id": "TXJfUnGp7UOo"
      },
      "source": [
        "Cool! so variable declaration and getting it's type was easy."
      ]
    },
    {
      "cell_type": "markdown",
      "metadata": {
        "id": "s8enfSOekIjS"
      },
      "source": [
        "### **`SWAPPING`**\n",
        "### `Read below cell code for two methods of swapping`"
      ]
    },
    {
      "cell_type": "code",
      "source": [
        "'''\n",
        "# Python program to demonstrate\n",
        "# swapping of two variables\n",
        "\n",
        "x = 10\n",
        "y = 50\n",
        "\n",
        "# Swapping of two variables\n",
        "# Using third variable\n",
        "temp = x                 temp=10\n",
        "x = y                     x=50\n",
        "y = temp                  y=10\n",
        "\n",
        "print(\"Value of x:\", x)         x=50\n",
        "print(\"Value of y:\", y)         y=10\n",
        "\n",
        "'''"
      ],
      "metadata": {
        "id": "GbTaMFBkq9y6"
      },
      "execution_count": null,
      "outputs": []
    },
    {
      "cell_type": "code",
      "source": [
        "\n",
        "# Python program to demonstrate\n",
        "# swapping of two variables\n",
        "\n",
        "\n",
        "x = 10\n",
        "y = 50\n",
        "\n",
        "# Swapping of two variables\n",
        "# without using third variable\n",
        "x, y = y, x\n",
        "\n",
        "print(\"Value of x:\", x)\n",
        "print(\"Value of y:\", y)\n"
      ],
      "metadata": {
        "id": "eMDPpTtwvjES",
        "colab": {
          "base_uri": "https://localhost:8080/"
        },
        "outputId": "01bbb2bd-65c1-4890-e736-fe49cd43c408"
      },
      "execution_count": null,
      "outputs": [
        {
          "output_type": "stream",
          "name": "stdout",
          "text": [
            "Value of x: 50\n",
            "Value of y: 10\n"
          ]
        }
      ]
    },
    {
      "cell_type": "code",
      "execution_count": null,
      "metadata": {
        "id": "v9rveKci7UOn",
        "colab": {
          "base_uri": "https://localhost:8080/"
        },
        "outputId": "343477a6-5463-496c-f185-9f1f501a6799"
      },
      "outputs": [
        {
          "output_type": "stream",
          "name": "stdout",
          "text": [
            "Before swapping Value of a: city\n",
            "Before swapping Value of b: 5\n",
            "After swapping Value of a: 5\n",
            "After swapping Value of b: city\n"
          ]
        }
      ],
      "source": [
        "# swap a and b\n",
        "\n",
        "a = 'city'\n",
        "b = 5\n",
        "\n",
        "print(\"Before swapping Value of a:\", a)\n",
        "print(\"Before swapping Value of b:\", b)\n",
        "\n",
        "a, b = b, a\n",
        "\n",
        "print(\"After swapping Value of a:\", a)\n",
        "print(\"After swapping Value of b:\", b)\n",
        "\n"
      ]
    },
    {
      "cell_type": "markdown",
      "metadata": {
        "id": "QWYFyKdJkIjT"
      },
      "source": [
        "Lets confirm the value"
      ]
    },
    {
      "cell_type": "code",
      "execution_count": null,
      "metadata": {
        "id": "YTH6bbDUkIjT",
        "outputId": "dc61d28f-35e8-46a4-a1da-4ef3dbe8d7ed",
        "colab": {
          "base_uri": "https://localhost:8080/"
        }
      },
      "outputs": [
        {
          "output_type": "stream",
          "name": "stdout",
          "text": [
            "Value of a: 5\n",
            "Value of b: city\n"
          ]
        }
      ],
      "source": [
        "# print a and b\n",
        "\n",
        "print(\"Value of a:\", a)\n",
        "print(\"Value of b:\", b)\n"
      ]
    },
    {
      "cell_type": "code",
      "execution_count": null,
      "metadata": {
        "id": "zDft_S5g7UOo",
        "outputId": "d5a86fdc-1c63-4d0c-c069-9ec4139d681c"
      },
      "outputs": [
        {
          "name": "stdout",
          "output_type": "stream",
          "text": [
            "a = city,b = 5\n"
          ]
        }
      ],
      "source": [
        "# print with string a and b\n",
        "\n",
        "\n"
      ]
    },
    {
      "cell_type": "markdown",
      "metadata": {
        "id": "slUTeQt17UOo"
      },
      "source": [
        "### 3. Arithmetic Operations"
      ]
    },
    {
      "cell_type": "code",
      "execution_count": null,
      "metadata": {
        "id": "qJq9f3Pa7UOp",
        "outputId": "efb07c55-33db-4364-83ed-b62e3a247b7c",
        "colab": {
          "base_uri": "https://localhost:8080/"
        }
      },
      "outputs": [
        {
          "output_type": "stream",
          "name": "stdout",
          "text": [
            "a = 24, b = 3\n"
          ]
        }
      ],
      "source": [
        "# declare two variables, a = 24, b = 3\n",
        "\n",
        "# your code below\n",
        "a = 24\n",
        "b = 3\n",
        "\n",
        "print('a = {}, b = {}'.format(a,b)) # this is way of string formatting"
      ]
    },
    {
      "cell_type": "code",
      "source": [
        "print('a + b = ',a+b)\n"
      ],
      "metadata": {
        "colab": {
          "base_uri": "https://localhost:8080/"
        },
        "id": "IVS9uKFpY_ku",
        "outputId": "c5077594-a20c-4a1b-b98f-9d38921335a5"
      },
      "execution_count": null,
      "outputs": [
        {
          "output_type": "stream",
          "name": "stdout",
          "text": [
            "a + b =  27\n"
          ]
        }
      ]
    },
    {
      "cell_type": "code",
      "execution_count": null,
      "metadata": {
        "id": "J-J4t3wy7UOp",
        "outputId": "0b6c68ec-5ab6-47a4-a966-f18a4f1ce5bf",
        "colab": {
          "base_uri": "https://localhost:8080/"
        }
      },
      "outputs": [
        {
          "output_type": "stream",
          "name": "stdout",
          "text": [
            "a + b =  27\n",
            "a - b =  21\n",
            "a * b =  72\n",
            "a / b =  8.0\n",
            "a % b =  0\n",
            "a // b =  8\n",
            "a ** b =  13824\n"
          ]
        }
      ],
      "source": [
        "# calculate and print all the possible numerical operations on a and b (There are total 7 operations)\n",
        "print('a + b = ',a+b)\n",
        "print('a - b = ',a-b)\n",
        "print('a * b = ',a*b)\n",
        "print('a / b = ',a/b)\n",
        "print('a % b = ',a%b)\n",
        "print('a // b = ',a//b) #floor division\n",
        "print('a ** b = ',a**b)\n",
        "\n",
        "\n",
        "\n"
      ]
    },
    {
      "cell_type": "markdown",
      "metadata": {
        "id": "u_jkYkFE7UOy"
      },
      "source": [
        "### 4. String slicing\n",
        "\n",
        "Hey coder, do you know? Python slicing is about obtaining a sub-string from the given string by slicing it respectively from start to end\n",
        "\n",
        "So be ready to implement it today!\n",
        "<p style='text-align: right;'> </p>"
      ]
    },
    {
      "cell_type": "code",
      "execution_count": null,
      "metadata": {
        "id": "lnUiJZZH7UOy",
        "outputId": "0a77c780-e1f0-4791-883c-c3e8c2b23eb7",
        "colab": {
          "base_uri": "https://localhost:8080/"
        }
      },
      "outputs": [
        {
          "output_type": "stream",
          "name": "stdout",
          "text": [
            "pineapple\n"
          ]
        }
      ],
      "source": [
        "#Create variable a = “pineapple”\n",
        "\n",
        "a ='pineapple'\n",
        "print(a)\n",
        "\n",
        "\n"
      ]
    },
    {
      "cell_type": "code",
      "execution_count": null,
      "metadata": {
        "id": "1XyXJZwC7UOy",
        "outputId": "3ca404cf-18c8-4049-e203-104abbd23ae7",
        "colab": {
          "base_uri": "https://localhost:8080/"
        }
      },
      "outputs": [
        {
          "output_type": "stream",
          "name": "stdout",
          "text": [
            "pine\n",
            "apple\n"
          ]
        }
      ],
      "source": [
        "# Using index slicing, print the words ‘pine’ and “apple”.\n",
        "\n",
        "# HINT - a[:]\n",
        "print(a[:4])\n",
        "print(a[4:])\n",
        "\n",
        "\n",
        "\n"
      ]
    },
    {
      "cell_type": "markdown",
      "metadata": {
        "id": "ee-ky2sHkIje"
      },
      "source": [
        "Great job! Slicing is fun."
      ]
    },
    {
      "cell_type": "markdown",
      "metadata": {
        "id": "hS7Fb3G_kIjT"
      },
      "source": [
        "### Assign value to variable using user input\n",
        "Reference for input() method: https://www.w3schools.com/python/ref_func_input.asp\n"
      ]
    },
    {
      "cell_type": "code",
      "execution_count": null,
      "metadata": {
        "id": "2KVZ-_3RkIjT",
        "outputId": "39bb0d26-f60d-4b41-a776-2f58f6a68e30",
        "colab": {
          "base_uri": "https://localhost:8080/"
        }
      },
      "outputs": [
        {
          "output_type": "stream",
          "name": "stdout",
          "text": [
            "Enter integer number:2\n",
            "2\n"
          ]
        }
      ],
      "source": [
        "# take value from user and print it back\n",
        "\n",
        "i=input('Enter integer number:')\n",
        "print(i)\n"
      ]
    },
    {
      "cell_type": "code",
      "execution_count": null,
      "metadata": {
        "id": "2L7CmvtpkIjT",
        "outputId": "99b64575-3b05-4f40-b577-d5187d9a4378",
        "colab": {
          "base_uri": "https://localhost:8080/",
          "height": 36
        }
      },
      "outputs": [
        {
          "output_type": "execute_result",
          "data": {
            "text/plain": [
              "'2'"
            ],
            "application/vnd.google.colaboratory.intrinsic+json": {
              "type": "string"
            }
          },
          "metadata": {},
          "execution_count": 36
        }
      ],
      "source": [
        "i"
      ]
    },
    {
      "cell_type": "code",
      "execution_count": null,
      "metadata": {
        "id": "7i-U-l0BkIjU",
        "outputId": "4f30f2f6-90be-47ee-c30a-eb7015b0b737",
        "colab": {
          "base_uri": "https://localhost:8080/"
        }
      },
      "outputs": [
        {
          "output_type": "stream",
          "name": "stdout",
          "text": [
            "<class 'str'>\n"
          ]
        }
      ],
      "source": [
        "#check type\n",
        "print(type(i))\n",
        "\n"
      ]
    },
    {
      "cell_type": "code",
      "execution_count": null,
      "metadata": {
        "id": "_r7sAwfMkIjU",
        "outputId": "3cb7a408-a2a4-435b-aca9-8addb7b2d674",
        "colab": {
          "base_uri": "https://localhost:8080/"
        }
      },
      "outputs": [
        {
          "output_type": "stream",
          "name": "stdout",
          "text": [
            "Please enter value: \n",
            "4\n",
            "Hello , You have entered :  4\n"
          ]
        }
      ],
      "source": [
        "# take value from user, type cast it to int and print it back.\n",
        "\n",
        "print(\"Please enter value: \")\n",
        "\n",
        "i=input()\n",
        "\n",
        "print(\"Hello , You have entered : \",i)"
      ]
    },
    {
      "cell_type": "code",
      "execution_count": null,
      "metadata": {
        "id": "tM29QY8IkIjU",
        "outputId": "31ae56fd-9bfb-44a7-a34a-f385d705b7cf",
        "colab": {
          "base_uri": "https://localhost:8080/"
        }
      },
      "outputs": [
        {
          "output_type": "stream",
          "name": "stdout",
          "text": [
            "<class 'str'>\n"
          ]
        }
      ],
      "source": [
        "# check type\n",
        "\n",
        "print(type(i))\n",
        "\n",
        "\n"
      ]
    },
    {
      "cell_type": "markdown",
      "metadata": {
        "id": "dfSF6T4y7UOq"
      },
      "source": [
        "### 5. Math Functions"
      ]
    },
    {
      "cell_type": "markdown",
      "metadata": {
        "id": "3R-nBeoN7UOq"
      },
      "source": [
        "Lets do some simple mathematical operations by using math module. Math module contains various mathematical functions. So here we go!\n",
        "\n",
        "\n",
        "<p style='text-align: right;'> </p>\n"
      ]
    },
    {
      "cell_type": "code",
      "execution_count": null,
      "metadata": {
        "id": "JHnJzXkg7UOq"
      },
      "outputs": [],
      "source": [
        "#import math\n",
        "\n",
        "import math"
      ]
    },
    {
      "cell_type": "code",
      "execution_count": null,
      "metadata": {
        "id": "epPESE_i7UOr"
      },
      "outputs": [],
      "source": [
        "# declare a variable x = 2 and y=5.32167\n",
        "\n",
        "x= 2\n",
        "y= 5.32167"
      ]
    },
    {
      "cell_type": "code",
      "execution_count": null,
      "metadata": {
        "id": "W3Z6fX_L7UOr",
        "outputId": "8b3609fe-6acf-4a02-ec74-ab86db924cf4",
        "colab": {
          "base_uri": "https://localhost:8080/"
        }
      },
      "outputs": [
        {
          "output_type": "execute_result",
          "data": {
            "text/plain": [
              "5.32167"
            ]
          },
          "metadata": {},
          "execution_count": 42
        }
      ],
      "source": [
        "# Print the maximum value between x and y\n",
        "\n",
        "max(x,y)\n"
      ]
    },
    {
      "cell_type": "code",
      "execution_count": null,
      "metadata": {
        "id": "1RXVWSGj7UOr",
        "outputId": "acb9bb0d-495a-458f-c7f4-dfc5e77eae82",
        "colab": {
          "base_uri": "https://localhost:8080/"
        }
      },
      "outputs": [
        {
          "output_type": "execute_result",
          "data": {
            "text/plain": [
              "2"
            ]
          },
          "metadata": {},
          "execution_count": 43
        }
      ],
      "source": [
        "# Print the minimum value between x and y\n",
        "\n",
        "min(x,y)\n"
      ]
    },
    {
      "cell_type": "code",
      "source": [],
      "metadata": {
        "id": "rIFiinQRnqSX"
      },
      "execution_count": null,
      "outputs": []
    },
    {
      "cell_type": "code",
      "execution_count": null,
      "metadata": {
        "id": "5BRSuEvf7UOr",
        "outputId": "30937014-9d76-439d-f0dc-9888517742eb",
        "colab": {
          "base_uri": "https://localhost:8080/"
        }
      },
      "outputs": [
        {
          "output_type": "stream",
          "name": "stdout",
          "text": [
            "4.0\n",
            "8.0\n"
          ]
        }
      ],
      "source": [
        "# Print square and cube of x and store in a and b variable\n",
        "\n",
        "a = math.pow(x,2)\n",
        "b = math.pow(x,3)\n",
        "\n",
        "\n",
        "# print a\n",
        "print(a)\n",
        "\n",
        "# print b\n",
        "print(b)\n",
        "\n",
        "\n"
      ]
    },
    {
      "cell_type": "code",
      "execution_count": null,
      "metadata": {
        "id": "v8lv-lVx7UOs",
        "outputId": "df466c7a-faa8-4023-ab21-f51bfe379213",
        "colab": {
          "base_uri": "https://localhost:8080/"
        }
      },
      "outputs": [
        {
          "output_type": "stream",
          "name": "stdout",
          "text": [
            "0.6931471805599453\n"
          ]
        }
      ],
      "source": [
        "#print log of x and store it in variable c\n",
        "\n",
        "c = math.log(x)\n",
        "\n",
        "# print c\n",
        "print(c)\n",
        "\n"
      ]
    },
    {
      "cell_type": "code",
      "execution_count": null,
      "metadata": {
        "id": "RLH6e76Q7UOs",
        "outputId": "40a5e22b-b9e6-4d8c-80b8-4b68d7515f85",
        "colab": {
          "base_uri": "https://localhost:8080/"
        }
      },
      "outputs": [
        {
          "output_type": "execute_result",
          "data": {
            "text/plain": [
              "2"
            ]
          },
          "metadata": {},
          "execution_count": 55
        }
      ],
      "source": [
        "#print minimum value between x,y,a, b and c\n",
        "min(x,y,a,b)\n",
        "\n",
        "\n"
      ]
    },
    {
      "cell_type": "code",
      "execution_count": null,
      "metadata": {
        "id": "1G4TS7SQ7UOt",
        "outputId": "72a87372-d3e0-40b0-966b-4fad58012616",
        "colab": {
          "base_uri": "https://localhost:8080/"
        }
      },
      "outputs": [
        {
          "output_type": "execute_result",
          "data": {
            "text/plain": [
              "8.0"
            ]
          },
          "metadata": {},
          "execution_count": 56
        }
      ],
      "source": [
        "#print maximum value between x,y,a, b and c\n",
        "\n",
        "max(x,y,a,b)\n",
        "\n"
      ]
    },
    {
      "cell_type": "code",
      "execution_count": null,
      "metadata": {
        "id": "DaT4LOpX7UOt",
        "outputId": "92d9004f-1a6a-4cab-a4fa-f70ade6d8f41",
        "colab": {
          "base_uri": "https://localhost:8080/"
        }
      },
      "outputs": [
        {
          "output_type": "execute_result",
          "data": {
            "text/plain": [
              "0"
            ]
          },
          "metadata": {},
          "execution_count": 58
        }
      ],
      "source": [
        "#print the largest integer that is smaller than or equal to c. ie.round down\n",
        "\n",
        "math.floor(c)\n",
        "\n"
      ]
    },
    {
      "cell_type": "code",
      "execution_count": null,
      "metadata": {
        "id": "hSuXT97m7UOu",
        "outputId": "bac61d2e-0866-4833-f272-09be71506993",
        "colab": {
          "base_uri": "https://localhost:8080/"
        }
      },
      "outputs": [
        {
          "output_type": "execute_result",
          "data": {
            "text/plain": [
              "1"
            ]
          },
          "metadata": {},
          "execution_count": 59
        }
      ],
      "source": [
        "#print the smallest integer that is greater than or equal to c ie. round up\n",
        "\n",
        "math.ceil(c)\n",
        "\n",
        "\n",
        "\n"
      ]
    },
    {
      "cell_type": "markdown",
      "metadata": {
        "id": "VSzJhRJq7UOu"
      },
      "source": [
        "## 6. Logical operations\n",
        "\n",
        "You must be aware of some logical operations you did in college, like 'and', 'or', 'not' etc. These operations becomes even more easy to implement when you have friend like python.\n",
        "\n",
        "<p style='text-align: right;'>  </p>\n"
      ]
    },
    {
      "cell_type": "code",
      "execution_count": null,
      "metadata": {
        "id": "7_vvs_p-7UOu",
        "outputId": "405b555d-4336-4c28-ae70-e3f72906d4bc",
        "colab": {
          "base_uri": "https://localhost:8080/"
        }
      },
      "outputs": [
        {
          "output_type": "stream",
          "name": "stdout",
          "text": [
            "True\n",
            "False\n"
          ]
        }
      ],
      "source": [
        "# declare two variables, a = True, b = False\n",
        "\n",
        "a =True\n",
        "b =False\n",
        "\n",
        "# print a and b\n",
        "print(a)\n",
        "print(b)\n",
        "\n"
      ]
    },
    {
      "cell_type": "code",
      "execution_count": null,
      "metadata": {
        "id": "pfJTQNVb7UOu",
        "outputId": "f7ad1211-4a43-4702-97b3-32bff5b1c239",
        "colab": {
          "base_uri": "https://localhost:8080/"
        }
      },
      "outputs": [
        {
          "output_type": "stream",
          "name": "stdout",
          "text": [
            "<class 'bool'>\n",
            "<class 'bool'>\n"
          ]
        }
      ],
      "source": [
        "# print type of a and type of b\n",
        "\n",
        "print(type(a))\n",
        "\n",
        "print(type(b))\n",
        "\n"
      ]
    },
    {
      "cell_type": "markdown",
      "metadata": {
        "id": "1SSHeudv7UOv"
      },
      "source": [
        "A fun fact for you !\n",
        "The Python Boolean type is one of Python's built-in data types. It's used to represent the truth value of an expression"
      ]
    },
    {
      "cell_type": "code",
      "execution_count": null,
      "metadata": {
        "id": "46H5_Kz37UOv",
        "outputId": "60294e99-8dc4-4187-9d2e-e25a0c470a2b",
        "colab": {
          "base_uri": "https://localhost:8080/"
        }
      },
      "outputs": [
        {
          "output_type": "stream",
          "name": "stdout",
          "text": [
            "1\n",
            "0\n"
          ]
        }
      ],
      "source": [
        "# print int(a) and int(b)\n",
        "print(int(a))\n",
        "print(int(b))\n",
        "\n"
      ]
    },
    {
      "cell_type": "markdown",
      "metadata": {
        "id": "9C4XLJ437UOv"
      },
      "source": [
        "We are sure you must have seen that, values for 'True' is 1 and for 'False' is 0."
      ]
    },
    {
      "cell_type": "code",
      "execution_count": null,
      "metadata": {
        "id": "UQIcttNb7UOv",
        "outputId": "6df54696-0b6c-494c-8f4c-362ba6857643",
        "colab": {
          "base_uri": "https://localhost:8080/"
        }
      },
      "outputs": [
        {
          "output_type": "stream",
          "name": "stdout",
          "text": [
            "not a= False\n",
            "not b= True\n",
            "a and b= False\n",
            "a or b= True\n",
            "a and not b= True\n"
          ]
        }
      ],
      "source": [
        "# Find and print the values of not a, not b, a and b, a or b, a and not b\n",
        "\n",
        "a =True\n",
        "b =False\n",
        "print('not a=',not a)\n",
        "print('not b=', not b)\n",
        "print('a and b=',a and b)\n",
        "print('a or b=',a or b)\n",
        "print('a and not b=',a and not b)\n",
        "\n"
      ]
    },
    {
      "cell_type": "markdown",
      "metadata": {
        "id": "F8JjQERt7UOv"
      },
      "source": [
        "We hope you tried to undertand the above output!"
      ]
    },
    {
      "cell_type": "markdown",
      "metadata": {
        "id": "1wPx8k_hkIjZ"
      },
      "source": [
        "### 6. Data Structures in Python"
      ]
    },
    {
      "cell_type": "markdown",
      "metadata": {
        "id": "U41zr-dlkIja"
      },
      "source": [
        "Python has implicit support for Data Structures which enable you to store and access data. These structures are `List`, `Dictionary`,`Tuple` and `Set`.\n",
        "\n",
        "- For now , we will only look into List to get basic understanding. Later we will discuss about other data structure."
      ]
    },
    {
      "cell_type": "markdown",
      "metadata": {
        "id": "Cif8R9Q5kIjb"
      },
      "source": [
        "### List\n",
        "\n",
        "A list is collection of items which can be change/ modify at any point of time. You can create list that contains the string, float, integer and boolean. In python, square brackets ([]) represents lists."
      ]
    },
    {
      "cell_type": "code",
      "execution_count": null,
      "metadata": {
        "id": "5GDx4rQvkIjb",
        "outputId": "a09710dd-95d6-4f2f-bd86-62a6e041d306",
        "colab": {
          "base_uri": "https://localhost:8080/"
        }
      },
      "outputs": [
        {
          "output_type": "stream",
          "name": "stdout",
          "text": [
            "[9, 1, 4, 5, 10]\n"
          ]
        }
      ],
      "source": [
        "# list that contains numbers.\n",
        "\n",
        "l =[9,1,4,5,10]\n",
        "print(l)\n",
        "\n",
        "\n"
      ]
    },
    {
      "cell_type": "code",
      "execution_count": null,
      "metadata": {
        "id": "KyGbvF63kIjb",
        "outputId": "18064823-b103-450f-d3fb-09b2ebe48036",
        "colab": {
          "base_uri": "https://localhost:8080/"
        }
      },
      "outputs": [
        {
          "output_type": "stream",
          "name": "stdout",
          "text": [
            "<class 'list'>\n"
          ]
        }
      ],
      "source": [
        "# print type of l\n",
        "\n",
        "print(type(l))\n"
      ]
    },
    {
      "cell_type": "code",
      "execution_count": null,
      "metadata": {
        "id": "Yk_QaAWykIjb",
        "outputId": "f7597eeb-3ca6-480d-eed0-d38349127792",
        "colab": {
          "base_uri": "https://localhost:8080/"
        }
      },
      "outputs": [
        {
          "output_type": "stream",
          "name": "stdout",
          "text": [
            "['shabnoor', 6.56, 7]\n"
          ]
        }
      ],
      "source": [
        "# create list that contains one string, float and integer values.\n",
        "\n",
        "l1 =['shabnoor',6.56,7]\n",
        "print(l1)\n",
        "\n",
        "\n"
      ]
    },
    {
      "cell_type": "code",
      "execution_count": null,
      "metadata": {
        "id": "Kb1Oy4swkIjb",
        "outputId": "f0c9ab6b-96ab-42d9-ef4d-47c5c30512a3",
        "colab": {
          "base_uri": "https://localhost:8080/"
        }
      },
      "outputs": [
        {
          "output_type": "stream",
          "name": "stdout",
          "text": [
            "Ansari\n",
            "4.6\n",
            "9.67\n",
            "shabnoor\n"
          ]
        }
      ],
      "source": [
        "# lets create list and try to access each element with indexing\n",
        "\n",
        "l2 =['Ansari',12,4.6,3,45,'shabnoor',9.67]\n",
        "\n",
        "# print value at index 0\n",
        "\n",
        "print(l2[0])\n",
        "\n",
        "# print value at index 2\n",
        "\n",
        "print(l2[2])\n",
        "\n",
        "# print last item from the list\n",
        "\n",
        "print(l2[-1])\n",
        "\n",
        "# print second last item from list using -2\n",
        "\n",
        "print(l2[-2])"
      ]
    },
    {
      "cell_type": "code",
      "execution_count": null,
      "metadata": {
        "id": "6jna7koUkIjb",
        "outputId": "eab537ff-6ea8-4302-eccb-9dd7e1669a70",
        "colab": {
          "base_uri": "https://localhost:8080/"
        }
      },
      "outputs": [
        {
          "output_type": "stream",
          "name": "stdout",
          "text": [
            "7\n"
          ]
        }
      ],
      "source": [
        "# print the length of list\n",
        "\n",
        "print(len(l2))\n"
      ]
    },
    {
      "cell_type": "code",
      "execution_count": null,
      "metadata": {
        "id": "PS2QWVuZkIjc",
        "outputId": "c953990f-4f07-4bc9-fe22-d0c510ced6d3",
        "colab": {
          "base_uri": "https://localhost:8080/"
        }
      },
      "outputs": [
        {
          "output_type": "stream",
          "name": "stdout",
          "text": [
            "[11, 40, 43, 65, 85]\n",
            "[85, 65, 43, 40, 11]\n"
          ]
        }
      ],
      "source": [
        "l2=[43,11,85,40,65]\n",
        "# sort in ascending order and print l2\n",
        "l2.sort()\n",
        "print(l2)\n",
        "\n",
        "# sort in descending order and then print l2\n",
        "\n",
        "l2.sort(reverse=True)\n",
        "print(l2)\n"
      ]
    },
    {
      "cell_type": "markdown",
      "metadata": {
        "id": "qVq6XzV1kIjc"
      },
      "source": [
        "#### Lets try to append , insert , delete item from list"
      ]
    },
    {
      "cell_type": "code",
      "execution_count": null,
      "metadata": {
        "id": "26avsVcjkIjc",
        "outputId": "2ec13d27-233e-4165-8e27-16f7b7368f9c",
        "colab": {
          "base_uri": "https://localhost:8080/"
        }
      },
      "outputs": [
        {
          "output_type": "stream",
          "name": "stdout",
          "text": [
            "after appending 99 in list : [43, 11, 85, 40, 65, 99]\n",
            "After inserting 500 in list : [500, 43, 11, 85, 40, 65, 99]\n",
            "After remove items of index 1 from list : [500, 11, 85, 40, 65, 99]\n",
            "After poping last element : [500, 11, 85, 40, 65]\n",
            "After removing item b value : [500, 11, 40, 65]\n"
          ]
        }
      ],
      "source": [
        "l2=[43,11,85,40,65]\n",
        "# add item 99 in list and print l2\n",
        "\n",
        "l2.append(99)\n",
        "print('after appending 99 in list :',l2)\n",
        "\n",
        "\n",
        "# insert item 500 in list at index 0\n",
        "l2.insert(0,500)\n",
        "print('After inserting 500 in list :',l2)\n",
        "# we are going to use insert(index, item) method.\n",
        "\n",
        "\n",
        "\n",
        "# remove items of index 1 from list\n",
        "del l2[1]\n",
        "print('After remove items of index 1 from list :',l2)\n",
        "\n",
        "\n",
        "\n",
        "# remove last element from the list using pop() method\n",
        "l2.pop(-1)\n",
        "print('After poping last element :',l2)\n",
        "\n",
        "\n",
        "# remove item by value\n",
        "\n",
        "l2.remove(85)\n",
        "print('After removing item b value :',l2)\n"
      ]
    },
    {
      "cell_type": "markdown",
      "metadata": {
        "id": "0XkB_HKm7UOw"
      },
      "source": [
        "### 7. String value and operators\n",
        "\n",
        "<p style='text-align: right;'>  </p>"
      ]
    },
    {
      "cell_type": "markdown",
      "metadata": {
        "id": "MrMecD157UOx"
      },
      "source": [
        "#### Characters in strings\n"
      ]
    },
    {
      "cell_type": "code",
      "execution_count": null,
      "metadata": {
        "id": "jrvjn27n7UOx",
        "outputId": "aef86591-63f4-417c-eea7-ffa96f9e6ec0",
        "colab": {
          "base_uri": "https://localhost:8080/"
        }
      },
      "outputs": [
        {
          "output_type": "stream",
          "name": "stdout",
          "text": [
            "cat\n",
            "dog\n"
          ]
        }
      ],
      "source": [
        "# declare the variables x = cat and y = dog and print it\n",
        "\n",
        "x ='cat'\n",
        "y ='dog'\n",
        "print(x)\n",
        "print(y)\n",
        "\n"
      ]
    },
    {
      "cell_type": "code",
      "execution_count": null,
      "metadata": {
        "id": "A2oh2rK57UOx",
        "colab": {
          "base_uri": "https://localhost:8080/"
        },
        "outputId": "a0f2622f-d2c6-4daa-8f7f-6e88a03bf1b4"
      },
      "outputs": [
        {
          "output_type": "stream",
          "name": "stdout",
          "text": [
            "First ch of x c\n",
            "First ch of y d\n"
          ]
        }
      ],
      "source": [
        "#Print first character of both x and y.\n",
        "print('First ch of x',x[0])\n",
        "print('First ch of y',y[0])\n",
        "\n"
      ]
    },
    {
      "cell_type": "code",
      "execution_count": null,
      "metadata": {
        "id": "rPY6j9rX7UOx",
        "outputId": "2dce2567-382f-4b8d-eb6b-6e58ae242625",
        "colab": {
          "base_uri": "https://localhost:8080/"
        }
      },
      "outputs": [
        {
          "output_type": "stream",
          "name": "stdout",
          "text": [
            "last ch of x t\n",
            "last ch of y g\n"
          ]
        }
      ],
      "source": [
        "#Print last character of both x and y.\n",
        "print('last ch of x',x[-1])\n",
        "print('last ch of y',y[-1])\n",
        "\n"
      ]
    },
    {
      "cell_type": "code",
      "execution_count": null,
      "metadata": {
        "id": "9f-LET-q7UOy",
        "outputId": "9b0a6580-d691-4058-f09d-270dec898a30",
        "colab": {
          "base_uri": "https://localhost:8080/"
        }
      },
      "outputs": [
        {
          "output_type": "stream",
          "name": "stdout",
          "text": [
            "Length of x is  3\n",
            "Length of y is  3\n"
          ]
        }
      ],
      "source": [
        "#Print len of both x and y\n",
        "\n",
        "print('Length of x is ',len(x))\n",
        "\n",
        "print('Length of y is ',len(y))\n"
      ]
    },
    {
      "cell_type": "code",
      "execution_count": null,
      "metadata": {
        "id": "_1nH5vTP7UOy",
        "outputId": "22be4133-b39c-4f38-aad8-bdd7f78b4847",
        "colab": {
          "base_uri": "https://localhost:8080/"
        }
      },
      "outputs": [
        {
          "output_type": "stream",
          "name": "stdout",
          "text": [
            "catdog\n"
          ]
        }
      ],
      "source": [
        "#concatenate both x and y and store it in variable z and print z\n",
        "\n",
        "z =x+y\n",
        "print(z)\n",
        "\n",
        "\n"
      ]
    },
    {
      "cell_type": "code",
      "execution_count": null,
      "metadata": {
        "id": "GUCA3sli7UOy",
        "outputId": "b2f3ec1a-610d-42c4-baf6-25dd3b622397",
        "colab": {
          "base_uri": "https://localhost:8080/"
        }
      },
      "outputs": [
        {
          "output_type": "stream",
          "name": "stdout",
          "text": [
            "True\n"
          ]
        }
      ],
      "source": [
        "#check if x is part of z\n",
        "if(x in z):\n",
        "  print('True')\n",
        "else:\n",
        "  print('False')\n",
        "\n"
      ]
    },
    {
      "cell_type": "markdown",
      "metadata": {
        "id": "r_l8k_YN7UOz"
      },
      "source": [
        "### 8. Dealing with Sentences\n",
        "\n",
        "<p style='text-align: right;'> </p>\n"
      ]
    },
    {
      "cell_type": "code",
      "execution_count": null,
      "metadata": {
        "id": "fLuMhwIA7UOz",
        "outputId": "42cfb75d-4146-4537-810d-8725f31b4d02",
        "colab": {
          "base_uri": "https://localhost:8080/"
        }
      },
      "outputs": [
        {
          "output_type": "stream",
          "name": "stdout",
          "text": [
            "I am flying to London\n"
          ]
        }
      ],
      "source": [
        "# Declare a sentence of ‘I am flying to London’ and print it\n",
        "\n",
        "sent = 'I am flying to London'\n",
        "print(sent)\n",
        "\n"
      ]
    },
    {
      "cell_type": "code",
      "execution_count": null,
      "metadata": {
        "id": "V0CUBCn97UOz",
        "outputId": "e79836d0-a83b-4243-fbcb-f8b01aec4e99",
        "colab": {
          "base_uri": "https://localhost:8080/"
        }
      },
      "outputs": [
        {
          "output_type": "stream",
          "name": "stdout",
          "text": [
            "len of sentence is 21\n"
          ]
        }
      ],
      "source": [
        "#Print length of the sentence\n",
        "\n",
        "print('len of sentence is',len(sent))\n"
      ]
    },
    {
      "cell_type": "code",
      "execution_count": null,
      "metadata": {
        "id": "xnvhTBBL7UOz",
        "outputId": "4d0474b4-288f-41f4-aa9a-ad276fbbdae2",
        "colab": {
          "base_uri": "https://localhost:8080/"
        }
      },
      "outputs": [
        {
          "output_type": "stream",
          "name": "stdout",
          "text": [
            "London\n"
          ]
        }
      ],
      "source": [
        "#Using list indexing, to print the word London\n",
        "a=sent[15:21]\n",
        "print(a)\n",
        "\n"
      ]
    },
    {
      "cell_type": "code",
      "execution_count": null,
      "metadata": {
        "id": "nGlqOSR07UOz",
        "outputId": "94f23209-6e9b-43fb-899b-4e6be4186476",
        "colab": {
          "base_uri": "https://localhost:8080/"
        }
      },
      "outputs": [
        {
          "output_type": "execute_result",
          "data": {
            "text/plain": [
              "['I', 'am', 'flying', 'to', 'London']"
            ]
          },
          "metadata": {},
          "execution_count": 34
        }
      ],
      "source": [
        "# Use .split to get list of individual words in the sentence\n",
        "\n",
        "sent.split()"
      ]
    },
    {
      "cell_type": "code",
      "execution_count": null,
      "metadata": {
        "id": "A2Hry7gT7UOz",
        "outputId": "3e9245da-9757-4c9d-ba19-e7deeec8a143",
        "colab": {
          "base_uri": "https://localhost:8080/"
        }
      },
      "outputs": [
        {
          "output_type": "stream",
          "name": "stdout",
          "text": [
            "i am flying to london\n"
          ]
        }
      ],
      "source": [
        "# Convert sentence in lower case\n",
        "print(sent.lower())\n",
        "\n"
      ]
    },
    {
      "cell_type": "code",
      "execution_count": null,
      "metadata": {
        "id": "-xWriyPJ7UO0",
        "outputId": "04884e4e-aea8-4875-d448-430245890da0",
        "colab": {
          "base_uri": "https://localhost:8080/"
        }
      },
      "outputs": [
        {
          "output_type": "stream",
          "name": "stdout",
          "text": [
            "I AM FLYING TO LONDON\n"
          ]
        }
      ],
      "source": [
        "# Convert sentence in upper case\n",
        "print(sent.upper())\n",
        "\n",
        "\n"
      ]
    },
    {
      "cell_type": "code",
      "execution_count": null,
      "metadata": {
        "id": "bNGudjFXkIjf",
        "outputId": "3525f851-8a07-4401-fb70-39a8c04235e6",
        "colab": {
          "base_uri": "https://localhost:8080/"
        }
      },
      "outputs": [
        {
          "output_type": "stream",
          "name": "stdout",
          "text": [
            "I am flying to london\n"
          ]
        }
      ],
      "source": [
        "# Convert sentence in Camel case\n",
        "print(sent.capitalize())\n",
        "\n"
      ]
    },
    {
      "cell_type": "markdown",
      "metadata": {
        "id": "tW0rjGy_kIjf"
      },
      "source": [
        "Lets try to print two string with inserting new line and tab"
      ]
    },
    {
      "cell_type": "code",
      "execution_count": null,
      "metadata": {
        "id": "Ns_OMXFnkIjf"
      },
      "outputs": [],
      "source": [
        "# create two string varibles jack , hills\n",
        "\n",
        "first_name='jack'\n",
        "last_name='hills'"
      ]
    },
    {
      "cell_type": "code",
      "execution_count": null,
      "metadata": {
        "id": "1E3uxhcikIjf",
        "outputId": "4a6ac212-3700-4385-ab1a-17678e7b5f23",
        "colab": {
          "base_uri": "https://localhost:8080/"
        }
      },
      "outputs": [
        {
          "output_type": "stream",
          "name": "stdout",
          "text": [
            "jack hills\n",
            "jack hills\n"
          ]
        }
      ],
      "source": [
        "# lets add tab space between first and last name\n",
        "\n",
        "full_name1 =\n",
        "\n",
        "print(full_name1)\n",
        "\n",
        "# lets add new line between first and last name\n",
        "\n",
        "full_name2 =\n",
        "print(full_name2)"
      ]
    },
    {
      "cell_type": "markdown",
      "metadata": {
        "id": "DrkT1xNNkIjf"
      },
      "source": [
        "Lets Remove (Strip) white space from string"
      ]
    },
    {
      "cell_type": "code",
      "source": [
        "s = ' This string contains white space. '\n",
        "\n",
        "print(s)\n",
        "\n",
        "# remove white space from both side.\n",
        "a=s.strip()\n",
        "print(a)\n",
        "\n",
        "# remove white space from left side.\n",
        "b=s.lstrip()\n",
        "print(b)\n",
        "\n",
        "# remove white space from right side.\n",
        "c=s.rstrip()\n",
        "print(c)\n"
      ],
      "metadata": {
        "colab": {
          "base_uri": "https://localhost:8080/"
        },
        "id": "w09WcnwL-Xss",
        "outputId": "333bd690-5b44-4ca1-fd24-be067b457a8f"
      },
      "execution_count": null,
      "outputs": [
        {
          "output_type": "stream",
          "name": "stdout",
          "text": [
            " This string contains white space. \n",
            "This string contains white space.\n",
            "This string contains white space. \n",
            " This string contains white space.\n"
          ]
        }
      ]
    },
    {
      "cell_type": "code",
      "execution_count": null,
      "metadata": {
        "id": "uQtqc59ukIjg",
        "outputId": "d41ef962-773f-4614-d660-138cde9b9878",
        "colab": {
          "base_uri": "https://localhost:8080/"
        }
      },
      "outputs": [
        {
          "output_type": "stream",
          "name": "stdout",
          "text": [
            "35\n",
            "33\n",
            "34\n",
            "34\n"
          ]
        }
      ],
      "source": [
        "#Print length and verify\n",
        "\n",
        "print(len(s))\n",
        "print(len(a))\n",
        "print(len(b))\n",
        "print(len(c))\n"
      ]
    },
    {
      "cell_type": "markdown",
      "metadata": {
        "id": "9bOFfADv7UO2"
      },
      "source": [
        "### 9. Loops and Iterations\n"
      ]
    },
    {
      "cell_type": "markdown",
      "metadata": {
        "id": "6VOI_A977UO2"
      },
      "source": [
        "### If statement\n",
        "\n",
        "<p style='text-align: right;'> </p>\n"
      ]
    },
    {
      "cell_type": "code",
      "execution_count": null,
      "metadata": {
        "id": "o3GDlQV27UO2"
      },
      "outputs": [],
      "source": [
        "#Declare a variable x equal to a number of your choice.\n",
        "#your code here\n",
        "\n",
        "x = 3 # add a number of your choice (mine is 3 :) )\n",
        "\n"
      ]
    },
    {
      "cell_type": "code",
      "execution_count": null,
      "metadata": {
        "id": "aY5xETpf7UO2",
        "outputId": "074f9e93-28ea-4b29-da38-931a0e6a5a47",
        "colab": {
          "base_uri": "https://localhost:8080/"
        }
      },
      "outputs": [
        {
          "output_type": "stream",
          "name": "stdout",
          "text": [
            "-2  is negative\n"
          ]
        }
      ],
      "source": [
        "#Using an if statement, print whether x is zero, positive or negative.\n",
        "#x=0\n",
        "#x=12\n",
        "x=-2\n",
        "\n",
        "if x>0:\n",
        "  print(x,' is postive ')\n",
        "elif x<0:\n",
        "  print(x,' is negative')\n",
        "else:\n",
        "  print(x,'is zero')\n",
        "\n"
      ]
    },
    {
      "cell_type": "markdown",
      "metadata": {
        "id": "3MbgZQdF7UO2"
      },
      "source": [
        "### For loop"
      ]
    },
    {
      "cell_type": "code",
      "execution_count": null,
      "metadata": {
        "id": "sD-ZUJTX7UO2"
      },
      "outputs": [],
      "source": [
        "#Create a list x, such that it contains the elements - ‘India’, ‘Israel’,’Canada’.\n",
        "\n",
        "x =['India','Israel','Canada']\n",
        "\n"
      ]
    },
    {
      "cell_type": "code",
      "execution_count": null,
      "metadata": {
        "id": "RNbFUHt-7UO3",
        "outputId": "b3658bbe-1a80-47b8-ded5-e1361c56663c",
        "colab": {
          "base_uri": "https://localhost:8080/"
        }
      },
      "outputs": [
        {
          "output_type": "stream",
          "name": "stdout",
          "text": [
            "India\n",
            "Israel\n",
            "Canada\n"
          ]
        }
      ],
      "source": [
        "#Using For loop, iterate over the list and print the elements.\n",
        "for i in x:\n",
        "  print(i)\n",
        "\n",
        "\n"
      ]
    },
    {
      "cell_type": "code",
      "execution_count": null,
      "metadata": {
        "id": "6t4zFrILkIjh",
        "outputId": "c65874c8-7716-4b9f-809a-13e902ca8dd1",
        "colab": {
          "base_uri": "https://localhost:8080/"
        }
      },
      "outputs": [
        {
          "output_type": "stream",
          "name": "stdout",
          "text": [
            "range(1, 11)\n"
          ]
        }
      ],
      "source": [
        "print(range(1,11))"
      ]
    },
    {
      "cell_type": "markdown",
      "metadata": {
        "id": "R_akCUc_7UO3"
      },
      "source": [
        "<p style='text-align: right;'> 2 points </p>\n"
      ]
    },
    {
      "cell_type": "code",
      "execution_count": null,
      "metadata": {
        "id": "mS3u8Mdp7UO3",
        "outputId": "820a2ac6-19f2-469b-e6a4-35fcbc6c47a0",
        "colab": {
          "base_uri": "https://localhost:8080/"
        }
      },
      "outputs": [
        {
          "output_type": "stream",
          "name": "stdout",
          "text": [
            "2 * 1 = 2\n",
            "2 * 2 = 4\n",
            "2 * 3 = 6\n",
            "2 * 4 = 8\n",
            "2 * 5 = 10\n",
            "2 * 6 = 12\n",
            "2 * 7 = 14\n",
            "2 * 8 = 16\n",
            "2 * 9 = 18\n",
            "2 * 10 = 20\n"
          ]
        }
      ],
      "source": [
        "# Using For loop, print the table of 2.\n",
        "\n",
        "for i in range(1,11):\n",
        "  print(f'2 * {i} =',2*i)\n",
        "\n"
      ]
    },
    {
      "cell_type": "markdown",
      "metadata": {
        "id": "K7bfSQ3P7UO3"
      },
      "source": [
        "For a given list, x = [21, ‘hello,’cream’, 20,19,’village’], using for loop to iterate over the items and using - if statement print the items that are of type int"
      ]
    },
    {
      "cell_type": "code",
      "execution_count": null,
      "metadata": {
        "id": "A8mV-2M_7UO3",
        "outputId": "ce7d0d5e-2457-4e29-8bdd-c67e633e8334",
        "colab": {
          "base_uri": "https://localhost:8080/"
        }
      },
      "outputs": [
        {
          "output_type": "stream",
          "name": "stdout",
          "text": [
            "21\n",
            "20\n",
            "19\n"
          ]
        }
      ],
      "source": [
        "#code here\n",
        "x = [21, 'hello','cream', 20,19,'village']\n",
        "for i in x:\n",
        "  if type(i) is int:\n",
        "    print(i)\n",
        "\n",
        "\n",
        "\n"
      ]
    },
    {
      "cell_type": "markdown",
      "metadata": {
        "id": "waYhTxVr7UO3"
      },
      "source": [
        "Using For loop, lets create a pattern."
      ]
    },
    {
      "cell_type": "markdown",
      "metadata": {
        "id": "-Bhsipqc7UO3"
      },
      "source": [
        "<p style='text-align: right;'> 10 points </p>\n"
      ]
    },
    {
      "cell_type": "raw",
      "metadata": {
        "id": "u9CuipfZkIji"
      },
      "source": [
        "*\n",
        "* *\n",
        "* * *\n",
        "* * * *\n",
        "* * * * *"
      ]
    },
    {
      "cell_type": "code",
      "execution_count": null,
      "metadata": {
        "id": "WIVFtj497UO3",
        "outputId": "b4e670c3-22f1-41b3-df75-f5f0a8eb4ffc",
        "colab": {
          "base_uri": "https://localhost:8080/"
        }
      },
      "outputs": [
        {
          "output_type": "stream",
          "name": "stdout",
          "text": [
            "* \n",
            "* * \n",
            "* * * \n",
            "* * * * \n",
            "* * * * * \n"
          ]
        }
      ],
      "source": [
        "# print the following pattern\n",
        "\n",
        "\n",
        "for i in range(0,5):\n",
        "  for j in range(0,i+1):\n",
        "   print('*',end=' ')\n",
        "  print()\n",
        "\n",
        "\n"
      ]
    },
    {
      "cell_type": "markdown",
      "metadata": {
        "id": "EqYzNCn17UO4"
      },
      "source": [
        "Lets remove duplicates from list names=['A','B','C','A','D','E','F','G','H','E','D']\n",
        "\n"
      ]
    },
    {
      "cell_type": "code",
      "execution_count": null,
      "metadata": {
        "id": "uH3WXER-7UO4",
        "colab": {
          "base_uri": "https://localhost:8080/"
        },
        "outputId": "8db6ba45-0be3-47ef-b599-43003af5530c"
      },
      "outputs": [
        {
          "output_type": "stream",
          "name": "stdout",
          "text": [
            "['D', 'B', 'A', 'G', 'E', 'H', 'F', 'C']\n",
            "['A', 'B', 'C', 'D', 'E', 'F', 'G', 'H']\n"
          ]
        }
      ],
      "source": [
        "name=['A','B','C','A','D','E','F','G','H','E','D']\n",
        "\n",
        "a=list(set(name))\n",
        "print(a)\n",
        "a.sort()\n",
        "print(a)\n",
        "\n"
      ]
    },
    {
      "cell_type": "markdown",
      "metadata": {
        "id": "iLIwgeYl7UO4"
      },
      "source": [
        "Good! Shall we try solving above problem in shorter way using list comprehension? It will be amazing. Here we go!\n",
        "\n"
      ]
    },
    {
      "cell_type": "markdown",
      "metadata": {
        "id": "FJ3MUu2tkIjk"
      },
      "source": [
        "### 10. List Comprehensions\n",
        "\n",
        "Hey buddy! Python has really amazing thing called list comprehension. List comprehension offers a shorter syntax when you want to create a new list based on the values of an existing list. Cool right? Let's dive into this more by doing it.\n",
        "\n",
        "\n",
        "<p style='text-align: right;'>  </p>\n",
        "\n"
      ]
    },
    {
      "cell_type": "code",
      "execution_count": null,
      "metadata": {
        "id": "7XSkVmpn7UO4",
        "outputId": "a2cb2421-dd0c-4ed0-8df9-77b1be3cb742",
        "colab": {
          "base_uri": "https://localhost:8080/"
        }
      },
      "outputs": [
        {
          "output_type": "stream",
          "name": "stdout",
          "text": [
            "['A', 'B', 'C', 'D', 'E', 'F', 'G', 'H']\n"
          ]
        }
      ],
      "source": [
        "\n",
        "print(a)\n",
        "\n",
        "\n"
      ]
    },
    {
      "cell_type": "code",
      "execution_count": null,
      "metadata": {
        "id": "M1PrtiD7kIjk",
        "outputId": "f74253d2-ad36-4993-f991-0ce7a5ba89fd",
        "colab": {
          "base_uri": "https://localhost:8080/"
        }
      },
      "outputs": [
        {
          "output_type": "stream",
          "name": "stdout",
          "text": [
            "[1, 2, 3, 4, 5, 6, 7, 8, 9, 10, 11, 12, 13, 14, 15, 16, 17, 18, 19, 20]\n"
          ]
        }
      ],
      "source": [
        "# Using list comprehension, create a list containing numbers from 1 to 20.\n",
        "# Hint: You can use range function of python to do this.\n",
        "\n",
        "list1=[x for x in range(1,21)]\n",
        "print(list1)\n"
      ]
    },
    {
      "cell_type": "code",
      "execution_count": null,
      "metadata": {
        "id": "Vj0NIJhZkIjk",
        "outputId": "2d7f73ea-c3b6-4418-e7ce-57f07156f102",
        "colab": {
          "base_uri": "https://localhost:8080/"
        }
      },
      "outputs": [
        {
          "output_type": "stream",
          "name": "stdout",
          "text": [
            "[2, 4, 6, 8, 10, 12, 14, 16, 18, 20]\n"
          ]
        }
      ],
      "source": [
        "# Using list comprehension, create a list containing numbers from 1 to 20 that are even\n",
        "\n",
        "list2=[x for x in range(1,21) if x%2==0]\n",
        "print(list2)\n"
      ]
    },
    {
      "cell_type": "markdown",
      "metadata": {
        "id": "0F6yQJQ3kIjk"
      },
      "source": [
        "Create a list of all the fruits you like. Using list comprehension, create another list which contains the total number of charachters for each corresponding fruits.\n",
        "- Eg. fruits = [‘apple’,’kiwi’,’orange’], then output would be - [5,4,6]"
      ]
    },
    {
      "cell_type": "code",
      "execution_count": null,
      "metadata": {
        "id": "ny86cw3MkIjl",
        "outputId": "69f85cbd-090b-4a56-fec7-fe0b01fc72ab",
        "colab": {
          "base_uri": "https://localhost:8080/"
        }
      },
      "outputs": [
        {
          "output_type": "execute_result",
          "data": {
            "text/plain": [
              "[5, 4, 6]"
            ]
          },
          "metadata": {},
          "execution_count": 23
        }
      ],
      "source": [
        "fruits = ['apple','kiwi','orange'] # your code here (create a list of your favourite fruits)\n",
        "[len(i) for i in fruits ]"
      ]
    },
    {
      "cell_type": "markdown",
      "metadata": {
        "id": "vo1kmvr-kIjl"
      },
      "source": [
        "The above output is shown if fruits = ['apple','kiwi,'orange'], it can vary for different values of fruits\n",
        "\n",
        "Amazing right?"
      ]
    },
    {
      "cell_type": "markdown",
      "metadata": {
        "id": "84KWS4BN7UO5"
      },
      "source": [
        "### Write the code for the following, what is the output obtained?\n",
        "- Set a variable flag = True, num = 5\n",
        "- Run a while loop till flag = True\n",
        "- Inside the while loop -\n",
        "    - Increment the value of num by 5\n",
        "    - If value of num is greater then 50, set flag to be False"
      ]
    },
    {
      "cell_type": "code",
      "execution_count": null,
      "metadata": {
        "id": "xkBIX1ed7UO5",
        "outputId": "29be4b1b-40a9-447b-bd75-d9e43fd347d5",
        "colab": {
          "base_uri": "https://localhost:8080/"
        }
      },
      "outputs": [
        {
          "output_type": "stream",
          "name": "stdout",
          "text": [
            "5\n",
            "10\n",
            "15\n",
            "20\n",
            "25\n",
            "30\n",
            "35\n",
            "40\n",
            "45\n",
            "50\n"
          ]
        }
      ],
      "source": [
        "# your code here\n",
        "flag=True\n",
        "num=5\n",
        "while flag==True:\n",
        "  print(num)\n",
        "  num+=5\n",
        "  if num>50:\n",
        "    set\n",
        "    flag=False"
      ]
    },
    {
      "cell_type": "markdown",
      "metadata": {
        "id": "-3pcZCrTkIjl"
      },
      "source": [
        "## 11. Functions\n",
        "\n",
        "Declare a function named square, which takes an input as x, and returns the square of x.\n",
        "\n",
        "<p style='text-align: right;'> </p>"
      ]
    },
    {
      "cell_type": "code",
      "execution_count": null,
      "metadata": {
        "id": "KcdHnSOdkIjl"
      },
      "outputs": [],
      "source": [
        "#define function\n",
        "\n",
        "def square(x):\n",
        " # x=input('Enter a number :')\n",
        "  num=x**2\n",
        "  return num"
      ]
    },
    {
      "cell_type": "markdown",
      "metadata": {
        "id": "TZxl_F2OkIjl"
      },
      "source": [
        "Call the function to find the value of square of 9."
      ]
    },
    {
      "cell_type": "code",
      "execution_count": null,
      "metadata": {
        "id": "UGeXYW_rkIjl",
        "outputId": "bfa5f088-a847-4111-bb18-dfbfcbff6c55",
        "colab": {
          "base_uri": "https://localhost:8080/"
        }
      },
      "outputs": [
        {
          "output_type": "stream",
          "name": "stdout",
          "text": [
            "square is : 81\n"
          ]
        }
      ],
      "source": [
        "# find the square of 9 using the function square you have just created.\n",
        "\n",
        "p=square(9)\n",
        "print('square is :',p)\n"
      ]
    },
    {
      "cell_type": "markdown",
      "metadata": {
        "id": "v1MBYTqCkIjl"
      },
      "source": [
        "Wohoo! see, defining function was simple"
      ]
    },
    {
      "cell_type": "markdown",
      "metadata": {
        "id": "bEJT-O6rkIjl"
      },
      "source": [
        "#### Define another function which checks whether a given is number is odd or even for a given input and it should print whether the  number is odd or even as an output\n",
        "<p style='text-align: right;'> </p>"
      ]
    },
    {
      "cell_type": "code",
      "execution_count": null,
      "metadata": {
        "id": "Zh-5txrekIjm"
      },
      "outputs": [],
      "source": [
        "# your code here\n",
        "\n",
        "def check_odd_even(x):\n",
        "  if(x%2==0):\n",
        "    print(x,\"is even\")\n",
        "  else:\n",
        "    print(x,\"is Odd\")\n",
        "\n",
        "\n",
        "\n",
        "\n"
      ]
    },
    {
      "cell_type": "code",
      "execution_count": null,
      "metadata": {
        "id": "CxXXNQg-kIjm",
        "outputId": "c890d3bc-d421-423d-a08f-b251168b1602",
        "colab": {
          "base_uri": "https://localhost:8080/"
        }
      },
      "outputs": [
        {
          "output_type": "stream",
          "name": "stdout",
          "text": [
            "3 is Odd\n",
            "6 is even\n",
            "21 is Odd\n"
          ]
        }
      ],
      "source": [
        " # your code here\n",
        "\n",
        "check_odd_even(3)\n",
        "check_odd_even(6)\n",
        "check_odd_even(21)\n"
      ]
    },
    {
      "cell_type": "markdown",
      "metadata": {
        "id": "1xBAZkrR7UO4"
      },
      "source": [
        "### define a funtion 'occurence' which takes 2 inputs, one list 'lst' and another one a number 'n' and count the number of occurrences of n in your list lst."
      ]
    },
    {
      "cell_type": "code",
      "execution_count": null,
      "metadata": {
        "id": "LoVyS-es7UO4",
        "outputId": "17248b08-e98b-49be-cadc-d86aa615edf6",
        "colab": {
          "base_uri": "https://localhost:8080/"
        }
      },
      "outputs": [
        {
          "output_type": "stream",
          "name": "stdout",
          "text": [
            "7 has occured 3 times in list \n"
          ]
        }
      ],
      "source": [
        "#your code\n",
        "def occurence(lst, n):\n",
        "  return lst.count(n)\n",
        "\n",
        "\n",
        "\n",
        "#lets use your function\n",
        "\n",
        "#occurence([1,2,3,4,4,6,8,1,4,5],1)\n",
        "\n",
        "lst=[1,4,5,7,1,2,45,7,9,3,2,1,7]\n",
        "n=7\n",
        "print(\"{} has occured {} times in list \".format(n,occurence(lst,n)))\n"
      ]
    },
    {
      "cell_type": "markdown",
      "metadata": {
        "id": "5WWR1BWh7UO4"
      },
      "source": [
        "### Using while loop make a function that prints all the values between 1 to n."
      ]
    },
    {
      "cell_type": "code",
      "execution_count": null,
      "metadata": {
        "id": "9Z_uhXKr7UO5"
      },
      "outputs": [],
      "source": [
        "#define counter\n",
        "\n",
        "def counter(n):\n",
        "  i=1\n",
        "  while i<=n:\n",
        "    print(i)\n",
        "    i+=1\n",
        "\n",
        "\n",
        "\n",
        "\n",
        "\n"
      ]
    },
    {
      "cell_type": "code",
      "execution_count": null,
      "metadata": {
        "id": "xoG1dobL7UO5",
        "outputId": "957578e6-865a-4249-82ae-22ca17f0912a",
        "colab": {
          "base_uri": "https://localhost:8080/"
        }
      },
      "outputs": [
        {
          "output_type": "stream",
          "name": "stdout",
          "text": [
            "1\n",
            "2\n",
            "3\n",
            "4\n",
            "5\n",
            "6\n",
            "7\n",
            "8\n",
            "9\n",
            "10\n"
          ]
        }
      ],
      "source": [
        "#this should print numbers from 1 to 10\n",
        "\n",
        "counter(10)\n",
        "\n"
      ]
    },
    {
      "cell_type": "code",
      "execution_count": null,
      "metadata": {
        "id": "AhNs7hq27UO2",
        "outputId": "9c5b2084-6f3b-49c5-e43f-d0c368a3a54b",
        "colab": {
          "base_uri": "https://localhost:8080/"
        }
      },
      "outputs": [
        {
          "output_type": "stream",
          "name": "stdout",
          "text": [
            "3 is positive\n",
            "-1 is negative\n",
            "0 is zero\n"
          ]
        }
      ],
      "source": [
        "# Now Define a function, which takes input from the user and prints whether the given input is zero,positive or negative.\n",
        "\n",
        "def check_num(x):\n",
        "  if x>0:\n",
        "    print(x, 'is positive')\n",
        "  elif x<0:\n",
        "    print(x,'is negative')\n",
        "  else:\n",
        "    print(x,'is zero')\n",
        "\n",
        "check_num(3)\n",
        "check_num(-1)\n",
        "check_num(0)\n",
        "\n",
        "\n",
        "\n",
        "\n",
        "\n"
      ]
    },
    {
      "cell_type": "markdown",
      "metadata": {
        "id": "nYr5mRR6kIjm"
      },
      "source": [
        "hey hey! You did a great code."
      ]
    },
    {
      "cell_type": "markdown",
      "metadata": {
        "id": "6RKqvrqH7UO-"
      },
      "source": [
        "# Smile, you completed the first milestone :)!!"
      ]
    }
  ],
  "metadata": {
    "colab": {
      "provenance": []
    },
    "kernelspec": {
      "display_name": "Python 3",
      "language": "python",
      "name": "python3"
    },
    "language_info": {
      "codemirror_mode": {
        "name": "ipython",
        "version": 3
      },
      "file_extension": ".py",
      "mimetype": "text/x-python",
      "name": "python",
      "nbconvert_exporter": "python",
      "pygments_lexer": "ipython3",
      "version": "3.8.8"
    }
  },
  "nbformat": 4,
  "nbformat_minor": 0
}